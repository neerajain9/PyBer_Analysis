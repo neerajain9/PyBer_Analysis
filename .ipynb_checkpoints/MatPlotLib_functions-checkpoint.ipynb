{
 "cells": [
  {
   "cell_type": "code",
   "execution_count": null,
   "id": "14a50a0d",
   "metadata": {},
   "outputs": [],
   "source": [
    "##Matplotlib Functions"
   ]
  },
  {
   "cell_type": "code",
   "execution_count": null,
   "id": "6ef7862b",
   "metadata": {},
   "outputs": [],
   "source": [
    "## plt.figure(figsize=(w, h))\n",
    "\n",
    "# Features: \n",
    "# Change the size of the figure in pixels. Added on the first line of the script. \n",
    "\n",
    "# In OOPS:\n",
    "# fig, ax = plt.subplots(figsize=(w, h))\n",
    "#     Change the size of the figure in pixels. Add this in the subplots() function."
   ]
  },
  {
   "cell_type": "code",
   "execution_count": null,
   "id": "50818cfe",
   "metadata": {},
   "outputs": [],
   "source": [
    "## plt.plot(x, y, label='line')\n",
    "\n",
    "# Features: \n",
    "# Add a label that will be added to the legend.\n",
    "\n",
    "# In OOPS:\n",
    "# ax.plot(x, y, label='line')\n",
    "#     Add a label that will be added to the legend."
   ]
  },
  {
   "cell_type": "code",
   "execution_count": null,
   "id": "175c9466",
   "metadata": {},
   "outputs": [],
   "source": [
    "## plt.xlim(min, max)\n",
    "\n",
    "# Features: \n",
    "# Set the min and max range of the x-axis.\n",
    "\n",
    "# In OOPS:\n",
    "# ax.set_xlim(min, max)\n",
    "#     Sets the min and max range of the x-axis."
   ]
  },
  {
   "cell_type": "code",
   "execution_count": null,
   "id": "eafcdb32",
   "metadata": {},
   "outputs": [],
   "source": [
    "## plt.ylim(min, max)\n",
    "\n",
    "# Features: \n",
    "# Set the min and max range of the y-axis.\n",
    "\n",
    "# In OOPS:\n",
    "# ax.set_ylim(min, max)\n",
    "#     Sets the min and max range of the y-axis."
   ]
  },
  {
   "cell_type": "code",
   "execution_count": null,
   "id": "6a3a4ca8",
   "metadata": {},
   "outputs": [],
   "source": [
    "## plt.xlabel('x label')\n",
    "\n",
    "# Features: \n",
    "# Add a label to the x-axis.\n",
    "\n",
    "# In OOPS:\n",
    "# ax.set_xlabel('x label')\n",
    "#     Add a label to the x-axis."
   ]
  },
  {
   "cell_type": "code",
   "execution_count": null,
   "id": "edea4b48",
   "metadata": {},
   "outputs": [],
   "source": [
    "## plt.ylabel('y label')\n",
    "\n",
    "# Features: \n",
    "# Add a label to the y-axis.\n",
    "\n",
    "# In OOPS:\n",
    "# ax.set_ylabel('y label')\n",
    "#     Add a label to the y-axis."
   ]
  },
  {
   "cell_type": "code",
   "execution_count": null,
   "id": "cd7640f0",
   "metadata": {},
   "outputs": [],
   "source": [
    "## plt.title(\"Title\")\n",
    "\n",
    "# Features: \n",
    "# Add a title.\n",
    "\n",
    "# In OOPS:\n",
    "# ax.set_title(\"Title\")\n",
    "#     Add a title."
   ]
  },
  {
   "cell_type": "code",
   "execution_count": null,
   "id": "ca9b45ab",
   "metadata": {},
   "outputs": [],
   "source": [
    "## plt.legend()\n",
    "\n",
    "# Features: \n",
    "# Add a legend. \n",
    "\n",
    "# In OOPS:\n",
    "# ax.legend()\n",
    "#     Add a legend."
   ]
  },
  {
   "cell_type": "code",
   "execution_count": null,
   "id": "eb3396e3",
   "metadata": {},
   "outputs": [],
   "source": [
    "## plt.grid()\n",
    "\n",
    "# Features: \n",
    "# Add a grid to the chart.\n",
    "\n",
    "# In OOPS:\n",
    "# ax.grid()\n",
    "#     Add a grid to the chart."
   ]
  },
  {
   "cell_type": "code",
   "execution_count": null,
   "id": "ab34f3c7",
   "metadata": {},
   "outputs": [],
   "source": [
    "## plt.savefig(\"add a path and figure extension\")\n",
    "\n",
    "# Features: \n",
    "# Save the figure with the given extension. Added at the end of the script. \n",
    "\n",
    "# In OOPS:\n",
    "# ** plt.savefig(\"add a path and figure extension\")\n",
    "#     Saves the figure with the given extension. Added at the end of your script."
   ]
  },
  {
   "cell_type": "code",
   "execution_count": null,
   "id": "cb97d743",
   "metadata": {},
   "outputs": [],
   "source": []
  }
 ],
 "metadata": {
  "kernelspec": {
   "display_name": "PythonData",
   "language": "python",
   "name": "pythondata"
  },
  "language_info": {
   "codemirror_mode": {
    "name": "ipython",
    "version": 3
   },
   "file_extension": ".py",
   "mimetype": "text/x-python",
   "name": "python",
   "nbconvert_exporter": "python",
   "pygments_lexer": "ipython3",
   "version": "3.9.6"
  }
 },
 "nbformat": 4,
 "nbformat_minor": 5
}
